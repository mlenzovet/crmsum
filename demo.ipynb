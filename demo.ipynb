{
 "cells": [
  {
   "cell_type": "code",
   "execution_count": 6,
   "metadata": {},
   "outputs": [],
   "source": [
    "import os\n",
    "import json \n",
    "from pprint import pprint \n",
    "\n",
    "from langchain import OpenAI\n",
    "from langchain.chat_models import ChatOpenAI\n",
    "from langchain.prompts import ChatPromptTemplate\n",
    "import openai\n",
    "from dotenv import load_dotenv\n",
    "import pandas as pd\n",
    "\n",
    "from src.prompt import prompt\n",
    "\n",
    "load_dotenv('openai.env')\n",
    "openai.api_key  = os.getenv('OPENAI_API_KEY')\n",
    "\n",
    "with open(r'src\\resource\\df.json', 'r', encoding='utf-8') as file:\n",
    "    data_demo = json.load(file)"
   ]
  },
  {
   "cell_type": "code",
   "execution_count": 7,
   "metadata": {},
   "outputs": [
    {
     "name": "stdout",
     "output_type": "stream",
     "text": [
      "('Оценка работы каждого менеджера на основе предоставленной информации:\\n'\n",
      " '\\n'\n",
      " '1. Валерия:\\n'\n",
      " '   - Оценка: Удовлетворительно.\\n'\n",
      " '   - Почему: Валерия была активна в начале работы над сделкой, добавляла '\n",
      " 'заметки и задачи. Однако ее вклад в последующих этапах работы был '\n",
      " 'незначительным. Она передавала ответственность и участвовала в установлении '\n",
      " 'задач, но основная работа проводилась другими менеджерами.\\n'\n",
      " '\\n'\n",
      " '2. Ева:\\n'\n",
      " '   - Оценка: Хорошо.\\n'\n",
      " '   - Почему: Ева активно общалась с клиентом, устанавливала и выполняла '\n",
      " 'задачи. Она регулярно обновляла информацию и следила за статусом сделки. '\n",
      " 'Однако, несмотря на ее активность, сделка не была закрыта во время ее '\n",
      " 'ответственности.\\n'\n",
      " '\\n'\n",
      " '3. Игорь:\\n'\n",
      " '   - Оценка: Удовлетворительно.\\n'\n",
      " '   - Почему: Игорь взял на себя ответственность за сделку позднее и '\n",
      " 'продолжил общение с клиентом. Однако, несмотря на его усилия, сделка так и '\n",
      " 'не была закрыта. Наличие заметок о \"тестовых примечаниях\" может указывать на '\n",
      " 'отсутствие внимания к деталям.\\n'\n",
      " '\\n'\n",
      " '4. Юрий:\\n'\n",
      " '   - Оценка: Средне.\\n'\n",
      " '   - Почему: Юрий был активен в начале работы над сделкой, добавляя '\n",
      " 'различные заметки и задачи. Однако он передал ответственность, и большая '\n",
      " 'часть дальнейшего общения с клиентом происходила без его участия.\\n'\n",
      " '\\n'\n",
      " 'Исходя из анализа данных, Ева показала наиболее активное участие в работе '\n",
      " 'над сделкой, в то время как остальные менеджеры имели меньший вклад или '\n",
      " 'столкнулись с проблемами в процессе работы.')\n"
     ]
    }
   ],
   "source": [
    "question = 'Как менеджеры справились с работой? Дай оценку каждому менеджеру и кратко поясни почему ты дал такую оценку'\n",
    "\n",
    "\n",
    "prompt = ChatPromptTemplate.from_template(prompt)\n",
    "model = ChatOpenAI()\n",
    "chain = prompt | model\n",
    "\n",
    "answer = chain.invoke({'data':data_demo, 'question': question}).content\n",
    "pprint(answer)"
   ]
  }
 ],
 "metadata": {
  "kernelspec": {
   "display_name": "venv",
   "language": "python",
   "name": "python3"
  },
  "language_info": {
   "codemirror_mode": {
    "name": "ipython",
    "version": 3
   },
   "file_extension": ".py",
   "mimetype": "text/x-python",
   "name": "python",
   "nbconvert_exporter": "python",
   "pygments_lexer": "ipython3",
   "version": "3.9.13"
  }
 },
 "nbformat": 4,
 "nbformat_minor": 2
}
