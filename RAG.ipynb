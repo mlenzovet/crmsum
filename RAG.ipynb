{
 "cells": [
  {
   "cell_type": "code",
   "execution_count": 3,
   "metadata": {},
   "outputs": [
    {
     "data": {
      "text/plain": [
       "'\\nСоздать файл openai.env, содержащий:\\nOPENAI_API_KEY=\"ключь GPT\"\\n'"
      ]
     },
     "execution_count": 3,
     "metadata": {},
     "output_type": "execute_result"
    }
   ],
   "source": [
    "import os\n",
    "import logging\n",
    "from pprint import pprint\n",
    "\n",
    "import pandas as pd\n",
    "from extract_urls import get_hyperlinks\n",
    "import openai\n",
    "from dotenv import load_dotenv\n",
    "from langchain.document_loaders import WebBaseLoader, DataFrameLoader\n",
    "from langchain.text_splitter import RecursiveCharacterTextSplitter\n",
    "from langchain.embeddings import OpenAIEmbeddings\n",
    "from langchain.vectorstores import Chroma\n",
    "from langchain.chat_models import ChatOpenAI\n",
    "from langchain.chains import RetrievalQA\n",
    "from langchain.prompts import ChatPromptTemplate\n",
    "from langchain_core.runnables import RunnablePassthrough\n",
    "from langchain_core.output_parsers import StrOutputParser\n",
    "\n",
    "load_dotenv('openai.env')\n",
    "logger = logging.getLogger()\n",
    "openai.api_key  = os.getenv('OPENAI_API_KEY')\n",
    "\n",
    "\"\"\"\n",
    "Создать файл openai.env, содержащий:\n",
    "OPENAI_API_KEY=\"ключь GPT\"\n",
    "\"\"\""
   ]
  },
  {
   "cell_type": "markdown",
   "metadata": {},
   "source": [
    "# Splitting"
   ]
  },
  {
   "cell_type": "markdown",
   "metadata": {},
   "source": [
    "## Pandas loader "
   ]
  },
  {
   "cell_type": "code",
   "execution_count": null,
   "metadata": {},
   "outputs": [],
   "source": [
    "df = pd.read_csv('test.csv')\n",
    "df['page_content'] = df.apply(lambda row: ' '.join(row.values.astype(str)), axis=1)\n",
    "loader = DataFrameLoader(df, page_content_column=\"page_content\")\n",
    "data = loader.load()\n",
    "text_splitter = RecursiveCharacterTextSplitter(chunk_size = df.shape[0], chunk_overlap = 1)\n",
    "all_splits = text_splitter.split_documents(data)\n",
    "vectorstore = Chroma.from_documents(documents=all_splits,\n",
    "                                    embedding=OpenAIEmbeddings(),\n",
    "                                    persist_directory='langchain_embeddings')"
   ]
  },
  {
   "cell_type": "markdown",
   "metadata": {},
   "source": [
    "# Question Answerning"
   ]
  },
  {
   "cell_type": "code",
   "execution_count": 68,
   "metadata": {},
   "outputs": [
    {
     "data": {
      "text/plain": [
       "'Для ответа на данный вопрос необходимо проанализировать данные о событиях, которые произошли в процессе сделки. В каждом событии указано имя менеджера, который создал событие (поле created_by) и имя менеджера, ответственного за сделку (поле responsible).\\n\\nИсходя из предоставленных данных, можно выделить следующих менеджеров, которые участвовали в сделке:\\n\\n1. Менеджер, создавший сделку: bulatovbogdann@gmail.com\\n2. Менеджер, ответственный за сделку: bulatovbogdann@gmail.com\\n\\nТаким образом, в сделке участвовал только один менеджер - bulatovbogdann@gmail.com.'"
      ]
     },
     "execution_count": 68,
     "metadata": {},
     "output_type": "execute_result"
    }
   ],
   "source": [
    "template = \"\"\" На вход подаются данные о событиях, которые произошли в процессе сделки. \n",
    "Описание данных:\n",
    "type - это тип события. Вот основные типы, которые может принят это поле:\\\n",
    "    initial - инициализация события, \\\n",
    "    sale_field_changed - изменение цены, \\\n",
    "    entity_responsible_changed - менеджер ответственный за сделку изменен,\\\n",
    "    common_note_added - добавлено примечание о сделке\n",
    "    entity_linked - добавили/изменили компанию или контакт \\n\n",
    "created_by - это имя менеджера создатея сделки, \\n\n",
    "created_at - дата, когда произошло событие\\n\n",
    "specific_data - это специфические данные, которые могут менятьс я в зависимости от поля type,\\n\n",
    "client - имя клиента,\\n\n",
    "company - название компании,\\n\n",
    "sale - цена (бюджет) сделки,\\n\n",
    "lead_status - статус сделки, \\n\n",
    "pipline - название воронки сделки,\\n\n",
    "responsible - имя менеджера, ответственного за сделку.\n",
    "\n",
    "###############################################################################\n",
    "Ответить на вопрос, основываясь только на данных. Расслабся и никуда не спеши:\n",
    "{context}\n",
    "\n",
    "Вопрос: {question}\n",
    "\"\"\"\n",
    "\n",
    "exstract_field = \"\"\"Проанализируй запрос. Если в нем упоминается имя менеджера\"\"\"\n",
    "prompt = ChatPromptTemplate.from_template(template)\n",
    "model = ChatOpenAI(model_name=\"gpt-3.5-turbo\", temperature=0)\n",
    "retriever = vectorstore.as_retriever()\n",
    "\n",
    "retrieval_chain = (\n",
    "    {\"context\": retriever, \"question\": RunnablePassthrough()}\n",
    "    | prompt\n",
    "    | model\n",
    "    | StrOutputParser()\n",
    ")\n",
    "retrieval_chain.invoke(\"Расскажи о работе всех менеджеров, которые участвовали в сделке?\")"
   ]
  }
 ],
 "metadata": {
  "kernelspec": {
   "display_name": "venv",
   "language": "python",
   "name": "python3"
  },
  "language_info": {
   "codemirror_mode": {
    "name": "ipython",
    "version": 3
   },
   "file_extension": ".py",
   "mimetype": "text/x-python",
   "name": "python",
   "nbconvert_exporter": "python",
   "pygments_lexer": "ipython3",
   "version": "3.9.13"
  }
 },
 "nbformat": 4,
 "nbformat_minor": 2
}
