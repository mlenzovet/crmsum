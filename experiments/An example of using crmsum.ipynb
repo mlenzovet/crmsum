{
 "cells": [
  {
   "cell_type": "markdown",
   "id": "2145f38b",
   "metadata": {},
   "source": [
    "### crmsum – обобщатор опыта продаж\n",
    "#### Зачем обобщать опыт продаж?\n",
    "Чтобы больше и лучше продавать!\n",
    "#### Где взять опыт продаж?\n",
    "В CRM находятся карточки заказчиков и карточки контрактов, а продаваны делают там записи о каждом взаимодействии с заказчиком.\n",
    "У любого отдела продаж уже накопилась огромная база таких записей.  Какие-то сделки провалились, какие-то сделки выстрелили.\n",
    "#### В чем боль?\n",
    "Продаваны не знают, что они делали хорошо и это привело к успеху, а что они делали плохо, что привело к неудаче. Им нужно это знать, чтобы лучше продавать и лучше удовлетворять клиентов.\n",
    "#### В чем решение?\n",
    "Можно обобщить запись по всем успешным сделкам и по всем неуспешным. По успешным периодам и неуспешным. По успешным продавцам и неуспешным. В общем «успешный успех» на стероидах из статистики.\\\n",
    "\n",
    "#### А как работает?\n",
    "* Шаг 1: Продаваны задают вопрос обобщатору в свободной форме в духе «Что Ева делала за месяц по Теххренмашу?»\n",
    "* Шаг 2: Обобщатор вылавливает:\n",
    " - Имя: Ева\n",
    " - Период: месяц\n",
    " - Заказчик: Теххренмаш\n",
    "* Шаг 3: Обобщатор стучится в CRM через API и выгружает все записи Евы по Теххренмашу за месяц.\n",
    "* Шаг 4: Обобщатор суммирует опыт Евы за месяц по Теххренмашу, чтобы другие продаваны искали инсайты и учились.\n",
    "\n",
    "#### А если я самый умный и лучше вас знаю, что нужно продаванам? А этим они пользоваться не будут. Ваша идее фуфло.\n",
    "Так они уже пользуется этой системой но в упрашенном виде. Могу показать. Рост продаж в два раза за год.\n",
    "\n",
    "#### Продакшн функции:\n",
    "\n",
    "- find_manager_name: принимает на вход текстовую строку и список менеджеров, ищет в тексте имя менеджера из списка, и возвращает это имя.\n",
    "\n",
    "- find_customer_name: принимает на вход текстовую строку и список заказчиков, ищет в тексте название заказчика из списка, и возвращает это название.\n",
    "\n",
    "- find_date_range: принимает на вход текстовую строку, ищет в ней диапазон дат и возвращает его в виде кортежа (start_date, end_date).\n",
    "\n",
    "- get_records_data: принимает на вход токен, путь для API, имя менеджера, название заказчика и диапазон дат, и возвращает список текстов из карточек, которые соответствуют этому фильтру.\n",
    "\n",
    "- summarize_records_texts: принимает на вход список текстов записей и возвращает список суммаризированных текстов.\n",
    "\n",
    "#### Тестовые функции:\n",
    "\n",
    "- generate_test_queries: генерирует список тестовых запросов с правильными ответами.\n",
    "\n",
    "- add_test_managers_stub: добавляет тестовых менеджеров через API AMOCRM.\n",
    "\n",
    "- add_test_customers_stub: добавляет тестовых заказчиков через API AMOCRM.\n",
    "\n",
    "- add_test_cards_stub: добавляет тестовые карточки через API AMOCRM.\n",
    "\n",
    "- add_test_records_stub: добавляет тестовые записи в карточку тестового заказчика от имени тестового менеджера через API AMOCRM.\n",
    "\n",
    "- generate_test_managers_stub: генерирует список тестовых менеджеров.\n",
    "\n",
    "- generate_test_customers_stub: генерирует список тестовых заказчиков.\n"
   ]
  },
  {
   "cell_type": "code",
   "execution_count": 1,
   "id": "b3579e02",
   "metadata": {},
   "outputs": [],
   "source": [
    "from crmsum import *\n",
    "from sklearn.metrics import precision_score"
   ]
  },
  {
   "cell_type": "code",
   "execution_count": 2,
   "id": "c950c1eb",
   "metadata": {},
   "outputs": [
    {
     "name": "stdout",
     "output_type": "stream",
     "text": [
      "Менеджер: Ева\n",
      "Заказчик: Трансхренмаш\n"
     ]
    }
   ],
   "source": [
    "# Пример текста и списков\n",
    "text = \"расскажи, что Ева делала сегодня по Трансхренмаш.\"\n",
    "managers_list = [\"Ева\", \"Иван\", \"Ольга\"]\n",
    "customers_list = [\"Трансхренмаш\", \"Газпром\", \"Роснефть\"]\n",
    "\n",
    "# Использование функций\n",
    "manager_name = find_manager_name(text, managers_list)\n",
    "customer_name = find_customer_name(text, customers_list)\n",
    "\n",
    "print(\"Менеджер:\", manager_name)\n",
    "print(\"Заказчик:\", customer_name)\n"
   ]
  },
  {
   "cell_type": "code",
   "execution_count": 3,
   "id": "649b4a80",
   "metadata": {},
   "outputs": [
    {
     "name": "stdout",
     "output_type": "stream",
     "text": [
      "Начальная дата: 2023-04-30\n",
      "Конечная дата: 2023-05-07\n"
     ]
    }
   ],
   "source": [
    "text = \"расскажи, что Ева делала с 2023-04-28 по 2023-05-05.\"\n",
    "start_date, end_date = find_date_range(text)\n",
    "\n",
    "print(\"Начальная дата:\", start_date)\n",
    "print(\"Конечная дата:\", end_date)"
   ]
  },
  {
   "cell_type": "code",
   "execution_count": 4,
   "id": "e1d7f458",
   "metadata": {},
   "outputs": [
    {
     "name": "stdout",
     "output_type": "stream",
     "text": [
      "Запрос: события между 2023-05-21 и 2023-05-21 для Ева и заказчика Роснефть\n",
      "Правильный менеджер: Ева | Результат функции: Ева\n",
      "Правильный заказчик: Роснефть | Результат функции: Трансхренмаш\n",
      "Правильный диапазон дат: 2023-05-21 - 2023-05-21 | Результат функции: 2023-04-30 - 2023-05-07\n",
      "--------------------------------------------------------------------------------\n"
     ]
    }
   ],
   "source": [
    "# Список менеджеров и заказчиков\n",
    "managers_list = [\"Ева\", \"Иван\", \"Ольга\"]\n",
    "customers_list = [\"Трансхренмаш\", \"Газпром\", \"Роснефть\"]\n",
    "\n",
    "# Генерация тестовых запросов с правильными ответами\n",
    "test_queries_with_answers = generate_test_queries(10, managers_list, customers_list)\n",
    "\n",
    "# Проверка работы функций\n",
    "for query, correct_manager, correct_customer, correct_dates in test_queries_with_answers[:1]:\n",
    "    manager_name = find_manager_name(query, managers_list)\n",
    "    customer_name = find_customer_name(query, customers_list)\n",
    "    start_date, end_date = find_date_range(query)\n",
    "\n",
    "    print(f\"Запрос: {query}\")\n",
    "    print(f\"Правильный менеджер: {correct_manager} | Результат функции: {manager_name}\")\n",
    "    print(f\"Правильный заказчик: {correct_customer} | Результат функции: {customer_name}\")\n",
    "    print(f\"Правильный диапазон дат: {correct_dates[0]} - {correct_dates[1]} | Результат функции: {start_date} - {end_date}\")\n",
    "    print(\"-\" * 80)"
   ]
  },
  {
   "cell_type": "code",
   "execution_count": 5,
   "id": "228ce64a",
   "metadata": {},
   "outputs": [
    {
     "name": "stdout",
     "output_type": "stream",
     "text": [
      "Точность для извлечения имени менеджера: 0.01\n",
      "Точность для извлечения имени заказчика: 0.25\n",
      "Точность для извлечения диапазона дат: 0.00\n"
     ]
    }
   ],
   "source": [
    "# Список менеджеров и заказчиков\n",
    "managers_list = [\"Ева\", \"Иван\", \"Ольга\"]\n",
    "customers_list = [\"Трансхренмаш\", \"Газпром\", \"Роснефть\"]\n",
    "\n",
    "# Генерация тестовых запросов с правильными ответами\n",
    "test_queries_with_answers = generate_test_queries(10, managers_list, customers_list)\n",
    "\n",
    "# Извлечение информации и сохранение результатов\n",
    "y_true_manager = []\n",
    "y_pred_manager = []\n",
    "y_true_customer = []\n",
    "y_pred_customer = []\n",
    "y_true_start_dates = []\n",
    "y_pred_start_dates = []\n",
    "y_true_end_dates = []\n",
    "y_pred_end_dates = []\n",
    "\n",
    "for query, correct_manager, correct_customer, correct_dates in test_queries_with_answers:\n",
    "    manager_name = find_manager_name(query, managers_list)\n",
    "    customer_name = find_customer_name(query, customers_list)\n",
    "    start_date, end_date = find_date_range(query)\n",
    "\n",
    "    y_true_manager.append(correct_manager)\n",
    "    y_pred_manager.append(manager_name)\n",
    "    y_true_customer.append(correct_customer)\n",
    "    y_pred_customer.append(customer_name)\n",
    "    y_true_start_dates.append(correct_dates[0])\n",
    "    y_pred_start_dates.append(start_date)\n",
    "    y_true_end_dates.append(correct_dates[1])\n",
    "    y_pred_end_dates.append(end_date)\n",
    "\n",
    "# Вычисление точности\n",
    "manager_precision = precision_score(y_true_manager, y_pred_manager, average='weighted', zero_division=0)\n",
    "customer_precision = precision_score(y_true_customer, y_pred_customer, average='weighted', zero_division=0)\n",
    "start_date_precision = precision_score(y_true_start_dates, y_pred_start_dates, average='weighted', zero_division=0)\n",
    "end_date_precision = precision_score(y_true_end_dates, y_pred_end_dates, average='weighted', zero_division=0)\n",
    "dates_precision = (start_date_precision + end_date_precision) / 2\n",
    "\n",
    "print(f\"Точность для извлечения имени менеджера: {manager_precision:.2f}\")\n",
    "print(f\"Точность для извлечения имени заказчика: {customer_precision:.2f}\")\n",
    "print(f\"Точность для извлечения диапазона дат: {dates_precision:.2f}\")\n"
   ]
  },
  {
   "cell_type": "code",
   "execution_count": 6,
   "id": "b963a098",
   "metadata": {},
   "outputs": [
    {
     "name": "stdout",
     "output_type": "stream",
     "text": [
      "Текст 1: Пример текста 1\n",
      "Текст 2: Пример текста 2\n",
      "Текст 3: Пример текста 3\n"
     ]
    }
   ],
   "source": [
    "# Примерные значения для токена и URL API\n",
    "token = \"your_api_token\"\n",
    "api_url = \"https://your_amocrm_api_url.com/api/v4/\"\n",
    "\n",
    "# Фильтры\n",
    "manager_name = \"Ева\"\n",
    "customer_name = \"Трансхренмаш\"\n",
    "date_range = (\"2023-05-01\", \"2023-05-31\")\n",
    "\n",
    "# Получение данных записей через API AMOCRM\n",
    "records_data = get_records_data(token, api_url, manager_name, customer_name, date_range)\n",
    "\n",
    "# Вывод полученных текстов из карточек\n",
    "for i, record_text in enumerate(records_data, start=1):\n",
    "    print(f\"Текст {i}: {record_text}\")"
   ]
  },
  {
   "cell_type": "code",
   "execution_count": 7,
   "id": "ad64ed16",
   "metadata": {},
   "outputs": [
    {
     "name": "stdout",
     "output_type": "stream",
     "text": [
      "Суммаризированный текст: Текст 1: Ева провела встречу с заказчиком Трансхренмаш.; Текст 2: Иван обсудил детали проекта с Газпром.; Текст 3: Ольга заключила контракт с Роснефть.\n"
     ]
    }
   ],
   "source": [
    "# Примерный список записей с текстами для суммаризации\n",
    "records_list = [\n",
    "    {\"id\": 1, \"text\": \"Текст 1: Ева провела встречу с заказчиком Трансхренмаш.\"},\n",
    "    {\"id\": 2, \"text\": \"Текст 2: Иван обсудил детали проекта с Газпром.\"},\n",
    "    {\"id\": 3, \"text\": \"Текст 3: Ольга заключила контракт с Роснефть.\"},\n",
    "]\n",
    "\n",
    "# Суммаризация списка текстов из записей (заглушка)\n",
    "summarized_text = summarize_records_texts(records_list)\n",
    "\n",
    "# Вывод суммаризированного текста\n",
    "print(summarized_text)"
   ]
  },
  {
   "cell_type": "code",
   "execution_count": 8,
   "id": "b88b9efc",
   "metadata": {},
   "outputs": [
    {
     "name": "stdout",
     "output_type": "stream",
     "text": [
      "Добавлен тестовый менеджер Тестовый Ева с ID 1\n",
      "Добавлен тестовый менеджер Тестовый Иван с ID 2\n",
      "Добавлен тестовый менеджер Тестовый Ольга с ID 3\n"
     ]
    }
   ],
   "source": [
    "# Примерные значения для токена и URL API\n",
    "token = \"your_api_token\"\n",
    "api_url = \"https://your_amocrm_api_url.com/api/v4/\"\n",
    "\n",
    "# Список тестовых менеджеров для добавления\n",
    "test_managers_list = [\"Ева\", \"Иван\", \"Ольга\"]\n",
    "\n",
    "# Добавление тестовых менеджеров через API AMOCRM (заглушка)\n",
    "added_test_managers = add_test_managers_stub(token, api_url, test_managers_list)\n",
    "\n",
    "# Вывод добавленных тестовых менеджеров и их идентификаторов\n",
    "for manager in added_test_managers:\n",
    "    print(f\"Добавлен тестовый менеджер {manager['name']} с ID {manager['id']}\")\n"
   ]
  },
  {
   "cell_type": "code",
   "execution_count": 9,
   "id": "6c08a9de",
   "metadata": {},
   "outputs": [
    {
     "name": "stdout",
     "output_type": "stream",
     "text": [
      "Добавлен тестовый заказчик Тестовый Трансхренмаш с ID 1\n",
      "Добавлен тестовый заказчик Тестовый Газпром с ID 2\n",
      "Добавлен тестовый заказчик Тестовый Роснефть с ID 3\n"
     ]
    }
   ],
   "source": [
    "# Примерные значения для токена и URL API\n",
    "token = \"your_api_token\"\n",
    "api_url = \"https://your_amocrm_api_url.com/api/v4/\"\n",
    "\n",
    "# Список тестовых заказчиков для добавления\n",
    "test_customers_list = [\"Трансхренмаш\", \"Газпром\", \"Роснефть\"]\n",
    "\n",
    "# Добавление тестовых заказчиков через API AMOCRM (заглушка)\n",
    "added_test_customers = add_test_customers_stub(token, api_url, test_customers_list)\n",
    "\n",
    "# Вывод добавленных тестовых заказчиков и их идентификаторов\n",
    "for customer in added_test_customers:\n",
    "    print(f\"Добавлен тестовый заказчик {customer['name']} с ID {customer['id']}\")\n"
   ]
  },
  {
   "cell_type": "code",
   "execution_count": 10,
   "id": "39c98bd3",
   "metadata": {
    "scrolled": false
   },
   "outputs": [
    {
     "name": "stdout",
     "output_type": "stream",
     "text": [
      "Добавлена тестовая карточка с ID 1: {'manager': 'Ева', 'customer': 'Трансхренмаш', 'text': 'Текст карточки 1'}\n",
      "Добавлена тестовая карточка с ID 2: {'manager': 'Иван', 'customer': 'Газпром', 'text': 'Текст карточки 2'}\n",
      "Добавлена тестовая карточка с ID 3: {'manager': 'Ольга', 'customer': 'Роснефть', 'text': 'Текст карточки 3'}\n"
     ]
    }
   ],
   "source": [
    "# Примерные значения для токена и URL API\n",
    "token = \"your_api_token\"\n",
    "api_url = \"https://your_amocrm_api_url.com/api/v4/\"\n",
    "\n",
    "# Данные тестовых карточек для добавления\n",
    "test_cards_data = [\n",
    "    {\"manager\": \"Ева\", \"customer\": \"Трансхренмаш\", \"text\": \"Текст карточки 1\"},\n",
    "    {\"manager\": \"Иван\", \"customer\": \"Газпром\", \"text\": \"Текст карточки 2\"},\n",
    "    {\"manager\": \"Ольга\", \"customer\": \"Роснефть\", \"text\": \"Текст карточки 3\"},\n",
    "]\n",
    "\n",
    "# Добавление тестовых карточек через API AMOCRM (заглушка)\n",
    "added_test_cards = add_test_cards_stub(token, api_url, test_cards_data)\n",
    "\n",
    "# Вывод добавленных тестовых карточек и их идентификаторов\n",
    "for card in added_test_cards:\n",
    "    print(f\"Добавлена тестовая карточка с ID {card['id']}: {card['data']}\")\n"
   ]
  },
  {
   "cell_type": "code",
   "execution_count": 11,
   "id": "e7f5aef3",
   "metadata": {},
   "outputs": [
    {
     "name": "stdout",
     "output_type": "stream",
     "text": [
      "Добавлена тестовая запись с ID 1: {'manager': 'Тестовый Ева', 'customer': 'Тестовый Трансхренмаш', 'text': 'Текст записи 1'}\n",
      "Добавлена тестовая запись с ID 2: {'manager': 'Тестовый Иван', 'customer': 'Тестовый Газпром', 'text': 'Текст записи 2'}\n",
      "Добавлена тестовая запись с ID 3: {'manager': 'Тестовый Ольга', 'customer': 'Тестовый Роснефть', 'text': 'Текст записи 3'}\n"
     ]
    }
   ],
   "source": [
    "# Примерные значения для токена и URL API\n",
    "token = \"your_api_token\"\n",
    "api_url = \"https://your_amocrm_api_url.com/api/v4/\"\n",
    "\n",
    "# Данные тестовых записей для добавления\n",
    "test_records_data = [\n",
    "    {\"manager\": \"Тестовый Ева\", \"customer\": \"Тестовый Трансхренмаш\", \"text\": \"Текст записи 1\"},\n",
    "    {\"manager\": \"Тестовый Иван\", \"customer\": \"Тестовый Газпром\", \"text\": \"Текст записи 2\"},\n",
    "    {\"manager\": \"Тестовый Ольга\", \"customer\": \"Тестовый Роснефть\", \"text\": \"Текст записи 3\"},\n",
    "]\n",
    "\n",
    "# Добавление тестовых записей в карточку тестового заказчика от имени тестового менеджера через API AMOCRM (заглушка)\n",
    "added_test_records = add_test_records_stub(token, api_url, test_records_data)\n",
    "\n",
    "# Вывод добавленных тестовых записей и их идентификаторов\n",
    "for record in added_test_records:\n",
    "    print(f\"Добавлена тестовая запись с ID {record['id']}: {record['data']}\")\n"
   ]
  },
  {
   "cell_type": "code",
   "execution_count": 12,
   "id": "d1210066",
   "metadata": {},
   "outputs": [
    {
     "name": "stdout",
     "output_type": "stream",
     "text": [
      "['Ева', 'Иван', 'Ольга']\n"
     ]
    }
   ],
   "source": [
    "# Генерация списка тестовых менеджеров (заглушка)\n",
    "test_managers = generate_test_managers_stub()\n",
    "\n",
    "# Вывод списка тестовых менеджеров\n",
    "print(test_managers)"
   ]
  },
  {
   "cell_type": "code",
   "execution_count": 13,
   "id": "86d808d7",
   "metadata": {},
   "outputs": [
    {
     "name": "stdout",
     "output_type": "stream",
     "text": [
      "['Трансхренмаш', 'Газпром', 'Роснефть']\n"
     ]
    }
   ],
   "source": [
    "# Генерация списка тестовых заказчиков (заглушка)\n",
    "test_customers = generate_test_customers_stub()\n",
    "\n",
    "# Вывод списка тестовых заказчиков\n",
    "print(test_customers)"
   ]
  }
 ],
 "metadata": {
  "kernelspec": {
   "display_name": "Python 3 (ipykernel)",
   "language": "python",
   "name": "python3"
  },
  "language_info": {
   "codemirror_mode": {
    "name": "ipython",
    "version": 3
   },
   "file_extension": ".py",
   "mimetype": "text/x-python",
   "name": "python",
   "nbconvert_exporter": "python",
   "pygments_lexer": "ipython3",
   "version": "3.8.11"
  }
 },
 "nbformat": 4,
 "nbformat_minor": 5
}
