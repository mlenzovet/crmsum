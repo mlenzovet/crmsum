{
 "cells": [
  {
   "cell_type": "code",
   "execution_count": 1,
   "metadata": {},
   "outputs": [],
   "source": [
    "import logging\n",
    "import json\n",
    "\n",
    "import pandas as pd \n",
    "from amocrm.v2 import tokens\n",
    "\n",
    "from utils import Vocabulary, SpecificDataProcessing\n",
    "\n",
    "pd.set_option('display.max_rows', 500)\n",
    "pd.set_option('display.max_columns', 500)\n",
    "pd.set_option('display.width', 1000)\n",
    "\n",
    "logger = logging.getLogger(__name__)\n",
    "logger.setLevel(logging.INFO)\n",
    "\n",
    "\n",
    "\"\"\" \n",
    "PATH_SECRETS - путь до файла secrets.json, который имеет вид:\n",
    "\n",
    "{\"client_id\": \"\", # указать client_id\n",
    "\"client_secret\": \"\", # указать client_secret\n",
    "\"subdomain\": \"crmsum1\",\n",
    "\"redirect_url\": \"https://lightson.amocrm.ru\n",
    "\n",
    "\"\"\"\n",
    "\n",
    "PATH_SECRETS = 'secrets.json'"
   ]
  },
  {
   "cell_type": "code",
   "execution_count": 2,
   "metadata": {},
   "outputs": [],
   "source": [
    "with open(PATH_SECRETS, 'r') as f:\n",
    "    secrets = json.load(f)\n",
    "\n",
    "storage = tokens.FileTokensStorage()\n",
    "tokens.default_token_manager(\n",
    "    client_id=secrets['client_id'],\n",
    "    client_secret=secrets['client_secret'],\n",
    "    subdomain=secrets['subdomain'],\n",
    "    redirect_url=secrets['redirect_url'],\n",
    "    storage=storage\n",
    ")\n",
    "access_token = tokens.default_token_manager.get_access_token()"
   ]
  },
  {
   "cell_type": "code",
   "execution_count": null,
   "metadata": {},
   "outputs": [],
   "source": []
  }
 ],
 "metadata": {
  "kernelspec": {
   "display_name": "env",
   "language": "python",
   "name": "python3"
  },
  "language_info": {
   "codemirror_mode": {
    "name": "ipython",
    "version": 3
   },
   "file_extension": ".py",
   "mimetype": "text/x-python",
   "name": "python",
   "nbconvert_exporter": "python",
   "pygments_lexer": "ipython3",
   "version": "3.11.5"
  }
 },
 "nbformat": 4,
 "nbformat_minor": 2
}
