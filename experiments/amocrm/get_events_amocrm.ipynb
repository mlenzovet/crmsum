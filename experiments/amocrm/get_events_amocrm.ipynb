{
 "cells": [
  {
   "cell_type": "code",
   "execution_count": 1,
   "metadata": {},
   "outputs": [],
   "source": [
    "import logging\n",
    "import json\n",
    "\n",
    "import pandas as pd \n",
    "from amocrm.v2 import tokens\n",
    "\n",
    "from utils import Vocabulary, AmoCRM\n",
    "\n",
    "pd.set_option('display.max_rows', 500)\n",
    "pd.set_option('display.max_columns', 500)\n",
    "pd.set_option('display.width', 1000)\n",
    "\n",
    "logger = logging.getLogger(__name__)\n",
    "logger.setLevel(logging.INFO)\n",
    "\n",
    "\n",
    "\"\"\" \n",
    "PATH_SECRETS - путь до файла secrets.json, который имеет вид:\n",
    "\n",
    "{\"client_id\": \"\", # указать client_id\n",
    "\"client_secret\": \"\", # указать client_secret\n",
    "\"subdomain\": \"crmsum1\",\n",
    "\"redirect_url\": \"https://lightson.amocrm.ru\n",
    "\n",
    "\"\"\"\n",
    "\n",
    "PATH_SECRETS = 'secrets.json'\n",
    "with open(PATH_SECRETS, 'r') as f:\n",
    "    secrets = json.load(f)\n",
    "    \n",
    "storage = tokens.FileTokensStorage()\n",
    "tokens.default_token_manager(\n",
    "    client_id=secrets['client_id'],\n",
    "    client_secret=secrets['client_secret'],\n",
    "    subdomain=secrets['subdomain'],\n",
    "    redirect_url=secrets['redirect_url'],\n",
    "    storage=storage\n",
    ")"
   ]
  },
  {
   "cell_type": "markdown",
   "metadata": {},
   "source": [
    "### Create asses token (if not created)"
   ]
  },
  {
   "cell_type": "code",
   "execution_count": null,
   "metadata": {},
   "outputs": [],
   "source": [
    "tokens.default_token_manager.init(code=secrets['code'], skip_error=False)"
   ]
  },
  {
   "cell_type": "markdown",
   "metadata": {},
   "source": [
    "### Basic Tools Initialization"
   ]
  },
  {
   "cell_type": "code",
   "execution_count": 2,
   "metadata": {},
   "outputs": [],
   "source": [
    "lead_id = 37925381\n",
    "vocab = Vocabulary(token_manager=tokens.default_token_manager, secrets=secrets)\n",
    "amocrm = AmoCRM(token_manager=tokens.default_token_manager, secrets=secrets)"
   ]
  },
  {
   "cell_type": "code",
   "execution_count": 20,
   "metadata": {},
   "outputs": [
    {
     "data": {
      "text/plain": [
       "{7236182: {60363370: 'Неразобранное',\n",
       "  60363374: 'Первичный контакт',\n",
       "  60363378: 'Переговоры',\n",
       "  60363382: 'Принимают решение',\n",
       "  60363386: 'Согласование договора',\n",
       "  142: 'Успешно реализовано',\n",
       "  143: 'Закрыто и не реализовано'},\n",
       " 7330230: {61017690: 'Неразобранное',\n",
       "  61017694: 'Первичный контакт',\n",
       "  61017698: 'Переговоры',\n",
       "  61017702: 'Принимают решение',\n",
       "  142: 'Успешно реализовано',\n",
       "  143: 'Закрыто и не реализовано'}}"
      ]
     },
     "execution_count": 20,
     "metadata": {},
     "output_type": "execute_result"
    }
   ],
   "source": [
    "vocab.lead_status"
   ]
  },
  {
   "cell_type": "code",
   "execution_count": 3,
   "metadata": {},
   "outputs": [
    {
     "ename": "ValueError",
     "evalue": "too many values to unpack (expected 3)",
     "output_type": "error",
     "traceback": [
      "\u001b[1;31m---------------------------------------------------------------------------\u001b[0m",
      "\u001b[1;31mValueError\u001b[0m                                Traceback (most recent call last)",
      "\u001b[1;32mc:\\Users\\Project\\AutoCRM\\crmsum\\experiments\\amocrm\\get_events_amocrm.ipynb Ячейка 7\u001b[0m line \u001b[0;36m1\n\u001b[1;32m----> <a href='vscode-notebook-cell:/c%3A/Users/Project/AutoCRM/crmsum/experiments/amocrm/get_events_amocrm.ipynb#W6sZmlsZQ%3D%3D?line=0'>1</a>\u001b[0m d \u001b[39m=\u001b[39m amocrm\u001b[39m.\u001b[39;49mget_all_lead_info(lead_id\u001b[39m=\u001b[39;49m\u001b[39m37903589\u001b[39;49m)\n\u001b[0;32m      <a href='vscode-notebook-cell:/c%3A/Users/Project/AutoCRM/crmsum/experiments/amocrm/get_events_amocrm.ipynb#W6sZmlsZQ%3D%3D?line=1'>2</a>\u001b[0m d\n",
      "File \u001b[1;32mc:\\Users\\Project\\AutoCRM\\crmsum\\experiments\\amocrm\\utils.py:437\u001b[0m, in \u001b[0;36mAmoCRM.get_all_lead_info\u001b[1;34m(self, lead_id)\u001b[0m\n\u001b[0;32m    426\u001b[0m notes_df \u001b[39m=\u001b[39m \u001b[39mself\u001b[39m\u001b[39m.\u001b[39mget_notes_by_lead_id(lead_id)\n\u001b[0;32m    428\u001b[0m result \u001b[39m=\u001b[39m pd\u001b[39m.\u001b[39mconcat([inital_df, events_df, tasks_df, notes_df], axis\u001b[39m=\u001b[39m\u001b[39m0\u001b[39m)\\\n\u001b[0;32m    429\u001b[0m                                         \u001b[39m.\u001b[39msort_values(\u001b[39m'\u001b[39m\u001b[39mcreated_at\u001b[39m\u001b[39m'\u001b[39m)\u001b[39m.\u001b[39m\\\n\u001b[0;32m    430\u001b[0m                                         reset_index(drop\u001b[39m=\u001b[39m\u001b[39mTrue\u001b[39;00m)\u001b[39m.\u001b[39m\\\n\u001b[1;32m   (...)\u001b[0m\n\u001b[0;32m    435\u001b[0m                                         pipline\u001b[39m=\u001b[39m\u001b[39mNone\u001b[39;00m,\n\u001b[0;32m    436\u001b[0m                                         responsible\u001b[39m=\u001b[39m\u001b[39mNone\u001b[39;00m)\n\u001b[1;32m--> 437\u001b[0m result[[\u001b[39m'\u001b[39m\u001b[39mclient\u001b[39m\u001b[39m'\u001b[39m, \u001b[39m'\u001b[39m\u001b[39mcompany\u001b[39m\u001b[39m'\u001b[39m, \u001b[39m'\u001b[39m\u001b[39msale\u001b[39m\u001b[39m'\u001b[39m, \u001b[39m'\u001b[39m\u001b[39mlead_status\u001b[39m\u001b[39m'\u001b[39m, \u001b[39m'\u001b[39m\u001b[39mpipline\u001b[39m\u001b[39m'\u001b[39m]] \u001b[39m=\u001b[39m result\u001b[39m.\u001b[39;49mapply(processor, axis\u001b[39m=\u001b[39;49m\u001b[39m1\u001b[39;49m)\n\u001b[0;32m    439\u001b[0m \u001b[39mreturn\u001b[39;00m result\u001b[39m.\u001b[39mastype({\u001b[39m'\u001b[39m\u001b[39mclient\u001b[39m\u001b[39m'\u001b[39m: pd\u001b[39m.\u001b[39mInt32Dtype(), \n\u001b[0;32m    440\u001b[0m                       \u001b[39m'\u001b[39m\u001b[39mcompany\u001b[39m\u001b[39m'\u001b[39m: pd\u001b[39m.\u001b[39mInt32Dtype(), \n\u001b[0;32m    441\u001b[0m                       \u001b[39m'\u001b[39m\u001b[39msale\u001b[39m\u001b[39m'\u001b[39m: pd\u001b[39m.\u001b[39mFloat32Dtype(),\n\u001b[0;32m    442\u001b[0m                       \u001b[39m'\u001b[39m\u001b[39mlead_status\u001b[39m\u001b[39m'\u001b[39m: pd\u001b[39m.\u001b[39mInt32Dtype(),\n\u001b[0;32m    443\u001b[0m                       \u001b[39m'\u001b[39m\u001b[39mpipline\u001b[39m\u001b[39m'\u001b[39m:pd\u001b[39m.\u001b[39mInt32Dtype(),\n\u001b[0;32m    444\u001b[0m                       \u001b[39m'\u001b[39m\u001b[39mresponsible\u001b[39m\u001b[39m'\u001b[39m:pd\u001b[39m.\u001b[39mInt32Dtype()})\n",
      "File \u001b[1;32mc:\\Users\\Project\\AutoCRM\\crmsum\\venv\\lib\\site-packages\\pandas\\core\\frame.py:10034\u001b[0m, in \u001b[0;36mDataFrame.apply\u001b[1;34m(self, func, axis, raw, result_type, args, by_row, **kwargs)\u001b[0m\n\u001b[0;32m  10022\u001b[0m \u001b[39mfrom\u001b[39;00m \u001b[39mpandas\u001b[39;00m\u001b[39m.\u001b[39;00m\u001b[39mcore\u001b[39;00m\u001b[39m.\u001b[39;00m\u001b[39mapply\u001b[39;00m \u001b[39mimport\u001b[39;00m frame_apply\n\u001b[0;32m  10024\u001b[0m op \u001b[39m=\u001b[39m frame_apply(\n\u001b[0;32m  10025\u001b[0m     \u001b[39mself\u001b[39m,\n\u001b[0;32m  10026\u001b[0m     func\u001b[39m=\u001b[39mfunc,\n\u001b[1;32m   (...)\u001b[0m\n\u001b[0;32m  10032\u001b[0m     kwargs\u001b[39m=\u001b[39mkwargs,\n\u001b[0;32m  10033\u001b[0m )\n\u001b[1;32m> 10034\u001b[0m \u001b[39mreturn\u001b[39;00m op\u001b[39m.\u001b[39;49mapply()\u001b[39m.\u001b[39m__finalize__(\u001b[39mself\u001b[39m, method\u001b[39m=\u001b[39m\u001b[39m\"\u001b[39m\u001b[39mapply\u001b[39m\u001b[39m\"\u001b[39m)\n",
      "File \u001b[1;32mc:\\Users\\Project\\AutoCRM\\crmsum\\venv\\lib\\site-packages\\pandas\\core\\apply.py:837\u001b[0m, in \u001b[0;36mFrameApply.apply\u001b[1;34m(self)\u001b[0m\n\u001b[0;32m    834\u001b[0m \u001b[39melif\u001b[39;00m \u001b[39mself\u001b[39m\u001b[39m.\u001b[39mraw:\n\u001b[0;32m    835\u001b[0m     \u001b[39mreturn\u001b[39;00m \u001b[39mself\u001b[39m\u001b[39m.\u001b[39mapply_raw()\n\u001b[1;32m--> 837\u001b[0m \u001b[39mreturn\u001b[39;00m \u001b[39mself\u001b[39;49m\u001b[39m.\u001b[39;49mapply_standard()\n",
      "File \u001b[1;32mc:\\Users\\Project\\AutoCRM\\crmsum\\venv\\lib\\site-packages\\pandas\\core\\apply.py:963\u001b[0m, in \u001b[0;36mFrameApply.apply_standard\u001b[1;34m(self)\u001b[0m\n\u001b[0;32m    962\u001b[0m \u001b[39mdef\u001b[39;00m \u001b[39mapply_standard\u001b[39m(\u001b[39mself\u001b[39m):\n\u001b[1;32m--> 963\u001b[0m     results, res_index \u001b[39m=\u001b[39m \u001b[39mself\u001b[39;49m\u001b[39m.\u001b[39;49mapply_series_generator()\n\u001b[0;32m    965\u001b[0m     \u001b[39m# wrap results\u001b[39;00m\n\u001b[0;32m    966\u001b[0m     \u001b[39mreturn\u001b[39;00m \u001b[39mself\u001b[39m\u001b[39m.\u001b[39mwrap_results(results, res_index)\n",
      "File \u001b[1;32mc:\\Users\\Project\\AutoCRM\\crmsum\\venv\\lib\\site-packages\\pandas\\core\\apply.py:979\u001b[0m, in \u001b[0;36mFrameApply.apply_series_generator\u001b[1;34m(self)\u001b[0m\n\u001b[0;32m    976\u001b[0m \u001b[39mwith\u001b[39;00m option_context(\u001b[39m\"\u001b[39m\u001b[39mmode.chained_assignment\u001b[39m\u001b[39m\"\u001b[39m, \u001b[39mNone\u001b[39;00m):\n\u001b[0;32m    977\u001b[0m     \u001b[39mfor\u001b[39;00m i, v \u001b[39min\u001b[39;00m \u001b[39menumerate\u001b[39m(series_gen):\n\u001b[0;32m    978\u001b[0m         \u001b[39m# ignore SettingWithCopy here in case the user mutates\u001b[39;00m\n\u001b[1;32m--> 979\u001b[0m         results[i] \u001b[39m=\u001b[39m \u001b[39mself\u001b[39m\u001b[39m.\u001b[39mfunc(v, \u001b[39m*\u001b[39m\u001b[39mself\u001b[39m\u001b[39m.\u001b[39margs, \u001b[39m*\u001b[39m\u001b[39m*\u001b[39m\u001b[39mself\u001b[39m\u001b[39m.\u001b[39mkwargs)\n\u001b[0;32m    980\u001b[0m         \u001b[39mif\u001b[39;00m \u001b[39misinstance\u001b[39m(results[i], ABCSeries):\n\u001b[0;32m    981\u001b[0m             \u001b[39m# If we have a view on v, we need to make a copy because\u001b[39;00m\n\u001b[0;32m    982\u001b[0m             \u001b[39m#  series_generator will swap out the underlying data\u001b[39;00m\n\u001b[0;32m    983\u001b[0m             results[i] \u001b[39m=\u001b[39m results[i]\u001b[39m.\u001b[39mcopy(deep\u001b[39m=\u001b[39m\u001b[39mFalse\u001b[39;00m)\n",
      "File \u001b[1;32mc:\\Users\\Project\\AutoCRM\\crmsum\\experiments\\amocrm\\utils.py:228\u001b[0m, in \u001b[0;36mSpecificDataProcessing.__call__\u001b[1;34m(self, row)\u001b[0m\n\u001b[0;32m    226\u001b[0m \u001b[39m# если это строка инициализации задачи\u001b[39;00m\n\u001b[0;32m    227\u001b[0m \u001b[39mif\u001b[39;00m row\u001b[39m.\u001b[39mtype \u001b[39m==\u001b[39m \u001b[39m'\u001b[39m\u001b[39minitial\u001b[39m\u001b[39m'\u001b[39m:\n\u001b[1;32m--> 228\u001b[0m     \u001b[39mself\u001b[39m\u001b[39m.\u001b[39msale, \u001b[39mself\u001b[39m\u001b[39m.\u001b[39mpipline, \u001b[39mself\u001b[39m\u001b[39m.\u001b[39mlead_status \u001b[39m=\u001b[39m \u001b[39mself\u001b[39m\u001b[39m.\u001b[39minitial_func(row)\n\u001b[0;32m    230\u001b[0m \u001b[39m# если установили/изменили sale\u001b[39;00m\n\u001b[0;32m    231\u001b[0m \u001b[39melif\u001b[39;00m row\u001b[39m.\u001b[39mtype \u001b[39m==\u001b[39m \u001b[39m'\u001b[39m\u001b[39msale_field_changed\u001b[39m\u001b[39m'\u001b[39m:\n",
      "\u001b[1;31mValueError\u001b[0m: too many values to unpack (expected 3)"
     ]
    }
   ],
   "source": [
    "d = amocrm.get_all_lead_info(lead_id=37903589)\n",
    "d"
   ]
  },
  {
   "cell_type": "code",
   "execution_count": 5,
   "metadata": {},
   "outputs": [
    {
     "data": {
      "text/plain": [
       "{'sale': 44041,\n",
       " 'responsible_user_id': 1531225,\n",
       " 'pipeline': 7236182,\n",
       " 'lead_status': 60363374}"
      ]
     },
     "execution_count": 5,
     "metadata": {},
     "output_type": "execute_result"
    }
   ],
   "source": [
    "d.iloc[0,:]['specific_data']"
   ]
  },
  {
   "cell_type": "code",
   "execution_count": 12,
   "metadata": {},
   "outputs": [],
   "source": [
    "from utils import SpecificDataProcessing"
   ]
  },
  {
   "cell_type": "code",
   "execution_count": 13,
   "metadata": {},
   "outputs": [],
   "source": [
    "a = SpecificDataProcessing()"
   ]
  },
  {
   "cell_type": "code",
   "execution_count": 4,
   "metadata": {},
   "outputs": [
    {
     "data": {
      "text/plain": [
       "{1531225: 'mlenzovet@gmail.com',\n",
       " 2794642: 'Технический Пользователь',\n",
       " 10076546: 'bulatovbogdann@gmail.com'}"
      ]
     },
     "execution_count": 4,
     "metadata": {},
     "output_type": "execute_result"
    }
   ],
   "source": [
    "vocab.users"
   ]
  },
  {
   "cell_type": "code",
   "execution_count": null,
   "metadata": {},
   "outputs": [],
   "source": []
  }
 ],
 "metadata": {
  "kernelspec": {
   "display_name": "env",
   "language": "python",
   "name": "python3"
  },
  "language_info": {
   "codemirror_mode": {
    "name": "ipython",
    "version": 3
   },
   "file_extension": ".py",
   "mimetype": "text/x-python",
   "name": "python",
   "nbconvert_exporter": "python",
   "pygments_lexer": "ipython3",
   "version": "3.9.13"
  }
 },
 "nbformat": 4,
 "nbformat_minor": 2
}
